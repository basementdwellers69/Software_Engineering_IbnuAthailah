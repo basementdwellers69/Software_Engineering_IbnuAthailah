{
  "nbformat": 4,
  "nbformat_minor": 0,
  "metadata": {
    "colab": {
      "name": "Week2.ipynb",
      "provenance": [],
      "collapsed_sections": [],
      "authorship_tag": "ABX9TyOK1G5bdWTNmFmIHMGbDjZ6",
      "include_colab_link": true
    },
    "kernelspec": {
      "name": "python3",
      "display_name": "Python 3"
    },
    "language_info": {
      "name": "python"
    }
  },
  "cells": [
    {
      "cell_type": "markdown",
      "metadata": {
        "id": "view-in-github",
        "colab_type": "text"
      },
      "source": [
        "<a href=\"https://colab.research.google.com/github/basementdwellers69/Software_Engineering_IbnuAthailah/blob/main/Week2.ipynb\" target=\"_parent\"><img src=\"https://colab.research.google.com/assets/colab-badge.svg\" alt=\"Open In Colab\"/></a>"
      ]
    },
    {
      "cell_type": "code",
      "metadata": {
        "id": "O7iKOmd1W59v"
      },
      "source": [
        "Tes = [\"a\", \"b\", \"c\", \"d\", \"e\", \"f\", \"g\"]"
      ],
      "execution_count": 3,
      "outputs": []
    },
    {
      "cell_type": "code",
      "metadata": {
        "colab": {
          "base_uri": "https://localhost:8080/"
        },
        "id": "cqBtfuEmYDQx",
        "outputId": "bb59ebb2-ad02-4e57-9454-31907a0821f7"
      },
      "source": [
        "Tes[0:7:3]"
      ],
      "execution_count": 8,
      "outputs": [
        {
          "output_type": "execute_result",
          "data": {
            "text/plain": [
              "['a', 'd', 'g']"
            ]
          },
          "metadata": {},
          "execution_count": 8
        }
      ]
    }
  ]
}